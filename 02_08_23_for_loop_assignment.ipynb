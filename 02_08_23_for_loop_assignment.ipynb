{
 "cells": [
  {
   "cell_type": "markdown",
   "id": "4709fe1a-1214-40fb-956d-35cb31ca5e54",
   "metadata": {
    "tags": []
   },
   "source": [
    "# For loop assignment"
   ]
  },
  {
   "cell_type": "code",
   "execution_count": 207,
   "id": "9c030801-08cb-4ed6-93db-cf54c290020d",
   "metadata": {},
   "outputs": [],
   "source": [
    "## Basic level "
   ]
  },
  {
   "cell_type": "markdown",
   "id": "61c76d2e-22b1-48f7-9445-45b65a178b86",
   "metadata": {},
   "source": [
    "### 1. Write a Python program to print the numbers from 1 to 10 using a `for` loop."
   ]
  },
  {
   "cell_type": "code",
   "execution_count": 208,
   "id": "9bac6a5d-c4ee-4f7b-b94f-a499da453a13",
   "metadata": {},
   "outputs": [
    {
     "name": "stdout",
     "output_type": "stream",
     "text": [
      "1\n",
      "2\n",
      "3\n",
      "4\n",
      "5\n",
      "6\n",
      "7\n",
      "8\n",
      "9\n",
      "10\n"
     ]
    }
   ],
   "source": [
    "for i in range(1,11):\n",
    "    print(i)"
   ]
  },
  {
   "cell_type": "markdown",
   "id": "d98148f4-cbb1-4157-8c7d-0b96660c6a77",
   "metadata": {},
   "source": [
    "### 2. Create a program that calculates the sum of all numbers in a list using a `for` loop."
   ]
  },
  {
   "cell_type": "code",
   "execution_count": 209,
   "id": "2849f6cb-58a0-4db1-a2b1-158a53ee4dd4",
   "metadata": {},
   "outputs": [
    {
     "name": "stdout",
     "output_type": "stream",
     "text": [
      "The sum of the number is  15\n"
     ]
    }
   ],
   "source": [
    "num = [1,2,3,4,5] # a list of numbers has been created\n",
    "total = 0\n",
    "\n",
    "for i in range(0,len(num)):     # here the range is 0 to 5, and the value of index i.e first we have '1',then 2,3,4,5 \n",
    "    total = total + num[i]      # total = 0+1 =1; now total =1 net index 2 is 2 and total 1+2=3; next 3 and total is 3,3+3=6 and so on \n",
    "print(\"The sum of the number is \",total)"
   ]
  },
  {
   "cell_type": "markdown",
   "id": "aa82ecba-7285-4447-9a21-2c24f14de171",
   "metadata": {},
   "source": [
    "### 3. Write a program to print the characters of a string in reverse order using a `for` loop."
   ]
  },
  {
   "cell_type": "code",
   "execution_count": 210,
   "id": "9e93704e-42b0-4736-be4c-e7f9aefb56af",
   "metadata": {},
   "outputs": [
    {
     "name": "stdout",
     "output_type": "stream",
     "text": [
      " eman ym si siht\n"
     ]
    }
   ],
   "source": [
    "my_text = \"this is my name \"\n",
    "reverse = ''\n",
    "for letter in my_text:\n",
    "    reverse = letter + reverse\n",
    "print(reverse)"
   ]
  },
  {
   "cell_type": "markdown",
   "id": "de0b40ca-1c60-4990-812d-28a155076628",
   "metadata": {},
   "source": [
    "### 4. Develop a program that finds the factorial of a given number using a `for` loop."
   ]
  },
  {
   "cell_type": "code",
   "execution_count": 211,
   "id": "aac16be6-b011-495a-9af4-71f8fb8ea5db",
   "metadata": {},
   "outputs": [
    {
     "name": "stdout",
     "output_type": "stream",
     "text": [
      "120\n"
     ]
    }
   ],
   "source": [
    "factorial = 5              # the factoial of 5\n",
    "result = 1\n",
    "\n",
    "for i in range(1,(factorial+1)):     # this specifies the length of the i values \n",
    " \n",
    "    result = result*i   # 5*4*3*2*1, first the input is 1 = 1*1, result =1; now i = 2 and result=2,output is 3;it continues. \n",
    "    \n",
    "print(result)\n",
    "\n"
   ]
  },
  {
   "cell_type": "markdown",
   "id": "e26933fb-1296-49b9-bd81-2030addb0984",
   "metadata": {},
   "source": [
    "### 5. Create a program to print the multiplication table of a given number using a `for` loop."
   ]
  },
  {
   "cell_type": "code",
   "execution_count": 212,
   "id": "fc108172-8700-40f0-b562-e5e13aaaadbf",
   "metadata": {},
   "outputs": [
    {
     "name": "stdin",
     "output_type": "stream",
     "text": [
      "Etner a number of your wish:  6\n"
     ]
    },
    {
     "name": "stdout",
     "output_type": "stream",
     "text": [
      "6\n",
      "12\n",
      "18\n",
      "24\n",
      "30\n",
      "36\n",
      "42\n",
      "48\n",
      "54\n",
      "60\n"
     ]
    }
   ],
   "source": [
    "multiple_table = int(input(\"Etner a number of your wish: \"))\n",
    "\n",
    "for i in range(1,11):\n",
    "    j = multiple_table*i\n",
    "    print(j)\n",
    "    "
   ]
  },
  {
   "cell_type": "markdown",
   "id": "74716e15-e266-4981-b34c-5b19334c0432",
   "metadata": {},
   "source": [
    "#### 6.Write a program that counts the number of even and odd numbers in a list using a `for` loop. "
   ]
  },
  {
   "cell_type": "code",
   "execution_count": 213,
   "id": "3d0cb4d3-b3fa-4127-ac52-87318f2a6354",
   "metadata": {},
   "outputs": [
    {
     "name": "stdout",
     "output_type": "stream",
     "text": [
      "no of even: 2\n",
      "no of odd: 4\n"
     ]
    }
   ],
   "source": [
    "num_list = [34,65,67,45,34,89]\n",
    "count_even = 0\n",
    "count_odd = 0\n",
    "for i in num_list:\n",
    "\n",
    "    if i%2==0:\n",
    "        #print(\"Even numbers: \",i)\n",
    "        count_even +=1\n",
    "\n",
    "    if i%2 !=0:\n",
    "        #print(\"\\n Odd numbers:\", i)\n",
    "        count_odd +=1\n",
    "print(\"no of even:\",count_even)\n",
    "print(\"no of odd:\",count_odd)\n",
    "\n",
    "\n",
    "    "
   ]
  },
  {
   "cell_type": "markdown",
   "id": "07d7c810-d2c1-4d7e-9bb8-e3e0b4f9bbdc",
   "metadata": {},
   "source": [
    "#### 7. Develop a program that prints the squares of numbers from 1 to 5 using a `for` loop."
   ]
  },
  {
   "cell_type": "code",
   "execution_count": 214,
   "id": "48d40dbd-77ff-444a-84fc-78810036189b",
   "metadata": {},
   "outputs": [
    {
     "name": "stdout",
     "output_type": "stream",
     "text": [
      "the square of  1 is 1\n",
      "the square of  2 is 4\n",
      "the square of  3 is 9\n",
      "the square of  4 is 16\n",
      "the square of  5 is 25\n"
     ]
    }
   ],
   "source": [
    "for i in range(1,6):\n",
    "\n",
    "    sqaure = i**2\n",
    "    print(\"the square of \",i,\"is\",sqaure)\n"
   ]
  },
  {
   "cell_type": "markdown",
   "id": "9ffe9936-d548-498a-9abf-31af1b74d5f2",
   "metadata": {},
   "source": [
    "#### 8. Create a program to find the length of a string without using the `len()` function."
   ]
  },
  {
   "cell_type": "code",
   "execution_count": 215,
   "id": "e69c245d-f44f-4e2d-9f9b-5ab912a12bb7",
   "metadata": {},
   "outputs": [
    {
     "name": "stdin",
     "output_type": "stream",
     "text": [
      "Enter a word:  harsha\n"
     ]
    },
    {
     "name": "stdout",
     "output_type": "stream",
     "text": [
      "6\n"
     ]
    }
   ],
   "source": [
    "word_count = input(\"Enter a word: \")\n",
    "word_len = 0\n",
    "for i in word_count:\n",
    "    word_len += 1\n",
    "    \n",
    "print(word_len)"
   ]
  },
  {
   "cell_type": "markdown",
   "id": "cd2273bb-c5b5-48a2-8cc7-e455479b7f43",
   "metadata": {},
   "source": [
    "#### 9. Write a program that calculates the average of a list of numbers using a `for` loop."
   ]
  },
  {
   "cell_type": "code",
   "execution_count": 216,
   "id": "dca7f09c-ccff-4635-9d87-6b99086586d6",
   "metadata": {},
   "outputs": [
    {
     "name": "stdout",
     "output_type": "stream",
     "text": [
      "The toal number of elements in a the list is:  6\n",
      "The sum of all the elements in the list is:  336\n",
      "The average sum of all the elements in the list is:  56.0\n"
     ]
    }
   ],
   "source": [
    "num_list = [23,45,67,89,45,67]      # create a list of numbers \n",
    "num_elements = len(num_list)\n",
    "elements_sum = 0\n",
    "\n",
    "for i in num_list:\n",
    "    elements_sum += i\n",
    "result = (elements_sum)/(num_elements)        \n",
    "print(\"The toal number of elements in a the list is: \",num_elements)\n",
    "\n",
    "print(\"The sum of all the elements in the list is: \", elements_sum)\n",
    "print(\"The average sum of all the elements in the list is: \",result)"
   ]
  },
  {
   "cell_type": "markdown",
   "id": "c92a4504-38e4-44d2-8dcb-215ddb7caa6d",
   "metadata": {},
   "source": [
    "#### 10. Develop a program that prints the first `n` Fibonacci numbers using a `for` loop."
   ]
  },
  {
   "cell_type": "code",
   "execution_count": 217,
   "id": "d0a16e34-6fd6-406e-81f9-099e1bb82dc6",
   "metadata": {},
   "outputs": [
    {
     "name": "stdout",
     "output_type": "stream",
     "text": [
      "0\n",
      "1\n",
      "1\n",
      "2\n",
      "3\n",
      "5\n",
      "8\n",
      "13\n",
      "21\n",
      "34\n"
     ]
    }
   ],
   "source": [
    "''' The Fibonacci sequence is the series of numbers where each \n",
    "number is the sum of the two preceding numbers.\n",
    "For example, 0, 1, 1, 2, 3, 5, 8, 13, 21, 34, 55, 89, 144... '''\n",
    "\n",
    "first = 0\n",
    "second = 1 \n",
    "print(first)\n",
    "print(second)\n",
    "\n",
    "for z in range (1,9):\n",
    "    third = first+second\n",
    "    print(third)\n",
    "    first,second = second, third\n",
    "    \n",
    "\n"
   ]
  },
  {
   "cell_type": "markdown",
   "id": "b80a7875-0bf5-4e8f-8640-5969d6d4a285",
   "metadata": {},
   "source": [
    "## Intermediate Level:"
   ]
  },
  {
   "cell_type": "markdown",
   "id": "42ed6926-4bcd-40b6-9219-aab50c580cf9",
   "metadata": {},
   "source": [
    "#### 11. Write a program to check if a given list contains any duplicates using a `for` loop."
   ]
  },
  {
   "cell_type": "code",
   "execution_count": 269,
   "id": "a01b4548-18af-4ac2-b0d1-8ef2ecb39cc5",
   "metadata": {},
   "outputs": [
    {
     "name": "stdout",
     "output_type": "stream",
     "text": [
      "This is the non repeat list:  [1, 2, 4, 5, 6, 7]\n",
      "this is repeat list:  [5, 6, 4, 5, 6, 5, 4, 5, 6]\n"
     ]
    }
   ],
   "source": [
    "check_list = [1,2,4,5,6,5,6,7,4,5,6,5,4,5,6]\n",
    "non_repeat_list = [ ]\n",
    "repeat_list = [ ]\n",
    "\n",
    "for i in check_list:\n",
    "    if i not in non_repeat_list:\n",
    "        non_repeat_list.append(i)\n",
    "\n",
    "        \n",
    "        \n",
    "    else:\n",
    "        repeat_list.append(i)\n",
    "\n",
    "print (\"This is the non repeat list: \", non_repeat_list)\n",
    "print (\"this is repeat list: \", repeat_list)"
   ]
  },
  {
   "cell_type": "markdown",
   "id": "ec921bc4-517d-41ef-8814-be6b933b424f",
   "metadata": {},
   "source": [
    "#### 12. Create a program that prints the prime numbers in a given range using a `for` loop."
   ]
  },
  {
   "cell_type": "code",
   "execution_count": 321,
   "id": "75d4bd70-7226-4cd0-8b24-6edeb1318ba0",
   "metadata": {},
   "outputs": [
    {
     "name": "stdin",
     "output_type": "stream",
     "text": [
      "Enter the start of range:  1\n",
      "Enter the end of range:  11\n"
     ]
    },
    {
     "name": "stdout",
     "output_type": "stream",
     "text": [
      "2 3 5 7 11 "
     ]
    }
   ],
   "source": [
    "# a prime number is divisable by itself and one. i.e. 2/2 =1, 3/3=1,\n",
    "\n",
    "start = int(input(\"Enter the start of range: \"))\n",
    "end = int(input(\"Enter the end of range: \"))\n",
    "\n",
    "for num in range(start, end + 1):\n",
    "    if num >1: \n",
    "        for i in range(2,int(num**0.5)+1):\n",
    "            \n",
    "            if (num%i) == 0:\n",
    "                break\n",
    "\n",
    "        else: \n",
    "            print(num, end = ' ')\n",
    "\n",
    "\n",
    "                   "
   ]
  },
  {
   "cell_type": "markdown",
   "id": "f98a13b9-23ee-4bbc-bd58-01e9fd483321",
   "metadata": {},
   "source": [
    "#### 13. Develop a program that counts the number of vowels in a string using a `for` loop."
   ]
  },
  {
   "cell_type": "code",
   "execution_count": 328,
   "id": "eef38e33-ee66-4a2c-8bf7-478e3d10e436",
   "metadata": {},
   "outputs": [
    {
     "name": "stdin",
     "output_type": "stream",
     "text": [
      "Enter a word : harsha how are you\n"
     ]
    },
    {
     "name": "stdout",
     "output_type": "stream",
     "text": [
      "7\n"
     ]
    }
   ],
   "source": [
    "vowels = ['a','e','i','o','u','A','E','I','O','U']\n",
    "enter_word = input(\"Enter a word :\")\n",
    "count = 0\n",
    "for letter in enter_word:\n",
    "    if letter in vowels:\n",
    "        count += 1\n",
    "print(count)\n",
    "        "
   ]
  },
  {
   "cell_type": "markdown",
   "id": "0887bfd7-715d-4f00-b468-416a8c1de5d8",
   "metadata": {},
   "source": [
    "#### 14. Write a program to find the maximum element in a 2D list using a nested `for` loop."
   ]
  },
  {
   "cell_type": "code",
   "execution_count": 5,
   "id": "6c5b0c87-5e9a-4b64-b882-3caeedb900f7",
   "metadata": {},
   "outputs": [
    {
     "name": "stdout",
     "output_type": "stream",
     "text": [
      "36\n"
     ]
    }
   ],
   "source": [
    "matrix = [[1,2,3],[4,5,6],[36,36,8]]\n",
    "\n",
    "'''\n",
    "float('-inf') represents negative infinity for floating-point numbers. Negative infinity \n",
    "is a special value that is used to represent the concept of a number that is smaller\n",
    "(more negative) than any other real number. It's essentially a way to indicate that there \n",
    "is no lower bound for a numerical value.\n",
    "'''\n",
    "max_element = float('-inf')\n",
    "\n",
    "for row in matrix:     # taking the row seperately\n",
    "    for element in row: # taking the elements of the row seperately\n",
    "        if element > max_element: # since max_element denotes the smaller number in the matrix, and we can get the maximum element from matrix\n",
    "            max_element = element # we are assigning the maximum element from the element\n",
    "            \n",
    "print(max_element)\n"
   ]
  },
  {
   "cell_type": "markdown",
   "id": "77088098-c3fc-4e3d-aada-bd0f0a360430",
   "metadata": {},
   "source": [
    "#### 15. Create a program that removes all occurrences of a specific element from a list using a `for` loop."
   ]
  },
  {
   "cell_type": "code",
   "execution_count": 373,
   "id": "5b81084a-ab36-49ee-8751-5a7256ca9770",
   "metadata": {},
   "outputs": [
    {
     "name": "stdout",
     "output_type": "stream",
     "text": [
      "the original list =  [1, 2, 3, 43, 2, 3, 4, 3, 4, 3, 4, 3, 4, 5, 6, 76, 43, 4, 5, 21]\n",
      "the number being removed = 3\n",
      "The numbers after removing 3 from the list is [1, 2, 43, 2, 4, 4, 4, 4, 5, 6, 76, 43, 4, 5, 21]\n"
     ]
    }
   ],
   "source": [
    "specific_list = [1,2,3,43,2,3,4,3,4,3,4,3,4,5,6,76,43,4,5,21]\n",
    "print(\"the original list = \", specific_list)\n",
    "specific = 3\n",
    "print(\"the number being removed =\",specific)\n",
    "\n",
    "for i in specific_list:\n",
    "    \n",
    "    if i == specific:\n",
    "        specific_list.remove(i)\n",
    "        counting = specific_list.count(i)\n",
    "        \n",
    "print('The numbers after removing', specific, \"from the list is\", specific_list)\n",
    "    "
   ]
  },
  {
   "cell_type": "markdown",
   "id": "bbee024f-8f6f-404e-8686-1c27decaf4cc",
   "metadata": {},
   "source": [
    "#### 16. Develop a program that generates a multiplication table for numbers from 1 to 5 using a nested `for` loop."
   ]
  },
  {
   "cell_type": "code",
   "execution_count": 411,
   "id": "52f1d532-af83-47d7-aa45-df0bd443a85f",
   "metadata": {},
   "outputs": [
    {
     "name": "stdout",
     "output_type": "stream",
     "text": [
      "The table of 1\n",
      "The multiplication of 1*1 =1\n",
      "The multiplication of 1*2 =2\n",
      "The multiplication of 1*3 =3\n",
      "The multiplication of 1*4 =4\n",
      "The multiplication of 1*5 =5\n",
      "The multiplication of 1*6 =6\n",
      "The multiplication of 1*7 =7\n",
      "The multiplication of 1*8 =8\n",
      "The multiplication of 1*9 =9\n",
      "The multiplication of 1*10 =10\n",
      "\n",
      " --------------------------------\n",
      "The table of 2\n",
      "The multiplication of 2*1 =2\n",
      "The multiplication of 2*2 =4\n",
      "The multiplication of 2*3 =6\n",
      "The multiplication of 2*4 =8\n",
      "The multiplication of 2*5 =10\n",
      "The multiplication of 2*6 =12\n",
      "The multiplication of 2*7 =14\n",
      "The multiplication of 2*8 =16\n",
      "The multiplication of 2*9 =18\n",
      "The multiplication of 2*10 =20\n",
      "\n",
      " --------------------------------\n",
      "The table of 3\n",
      "The multiplication of 3*1 =3\n",
      "The multiplication of 3*2 =6\n",
      "The multiplication of 3*3 =9\n",
      "The multiplication of 3*4 =12\n",
      "The multiplication of 3*5 =15\n",
      "The multiplication of 3*6 =18\n",
      "The multiplication of 3*7 =21\n",
      "The multiplication of 3*8 =24\n",
      "The multiplication of 3*9 =27\n",
      "The multiplication of 3*10 =30\n",
      "\n",
      " --------------------------------\n",
      "The table of 4\n",
      "The multiplication of 4*1 =4\n",
      "The multiplication of 4*2 =8\n",
      "The multiplication of 4*3 =12\n",
      "The multiplication of 4*4 =16\n",
      "The multiplication of 4*5 =20\n",
      "The multiplication of 4*6 =24\n",
      "The multiplication of 4*7 =28\n",
      "The multiplication of 4*8 =32\n",
      "The multiplication of 4*9 =36\n",
      "The multiplication of 4*10 =40\n",
      "\n",
      " --------------------------------\n",
      "The table of 5\n",
      "The multiplication of 5*1 =5\n",
      "The multiplication of 5*2 =10\n",
      "The multiplication of 5*3 =15\n",
      "The multiplication of 5*4 =20\n",
      "The multiplication of 5*5 =25\n",
      "The multiplication of 5*6 =30\n",
      "The multiplication of 5*7 =35\n",
      "The multiplication of 5*8 =40\n",
      "The multiplication of 5*9 =45\n",
      "The multiplication of 5*10 =50\n",
      "\n",
      " --------------------------------\n"
     ]
    }
   ],
   "source": [
    "\n",
    "\n",
    "for i in range(1,6):\n",
    "    print ('The table of {}'.format(i))\n",
    "\n",
    "\n",
    "    for j in range(1,11):\n",
    "        c = i*j\n",
    "        print(\"The multiplication of {0}*{1} ={2}\".format(i,j,c))\n",
    "        \n",
    "    print(\"\\n --------------------------------\")\n",
    "\n"
   ]
  },
  {
   "cell_type": "markdown",
   "id": "9fad3558-0fc1-4404-a387-3150a876581c",
   "metadata": {},
   "source": [
    "#### 17. Write a program that converts a list of Fahrenheit temperatures to Celsius using a `for` loop."
   ]
  },
  {
   "cell_type": "code",
   "execution_count": 426,
   "id": "c4d5d37d-6eea-4f3c-8fa2-c1f4c42cd19e",
   "metadata": {},
   "outputs": [
    {
     "name": "stdout",
     "output_type": "stream",
     "text": [
      "the temperature in celcius is 21\n",
      "the temperature in celcius is 7\n",
      "the temperature in celcius is 18\n",
      "the temperature in celcius is 5\n"
     ]
    }
   ],
   "source": [
    "''' \n",
    "This is the formula for converting Fahrenheit to celcius = ((f - 32)*5)/9\n",
    "\n",
    "'''\n",
    "temp_input = [70,45,65,40.3]\n",
    "\n",
    "for i in temp_input:\n",
    "    if i >32:\n",
    "        temp_celcius = ((((i)-32)*0.55))\n",
    "    print(\"the temperature in celcius is\",round(temp_celcius))         # rounding up the value to integer.\n",
    "    \n",
    "\n",
    "    \n",
    "\n"
   ]
  },
  {
   "cell_type": "markdown",
   "id": "78aa419d-3950-40a1-bce2-7af56083f6b7",
   "metadata": {},
   "source": [
    "#### 18. Create a program to print the common elements from two lists using a `for` loop."
   ]
  },
  {
   "cell_type": "code",
   "execution_count": 433,
   "id": "fb7a0fe4-08c5-4084-b899-369b130e18ad",
   "metadata": {},
   "outputs": [
    {
     "name": "stdout",
     "output_type": "stream",
     "text": [
      "[1, 2, 3, 4, 34]\n"
     ]
    }
   ],
   "source": [
    "A1 = [1,2,3,4,34,5]\n",
    "A2 = [1,2,3,4,3,45,65,34]\n",
    "c = []\n",
    "\n",
    "for k in A1:                   # Finding the elements in A1 in to the variable k\n",
    "\n",
    "    if k in A2:                # Finding the elements in A2 in to the variable k\n",
    "        c.append(k)            # Will append the elements of k to the variable c\n",
    "print(c)\n",
    "        \n",
    "        "
   ]
  },
  {
   "cell_type": "code",
   "execution_count": 429,
   "id": "42f91ed9-87a7-4caa-a01e-663ecc15666f",
   "metadata": {},
   "outputs": [
    {
     "name": "stdout",
     "output_type": "stream",
     "text": [
      "{1, 2, 3, 5, 8, 13}\n"
     ]
    }
   ],
   "source": [
    "# Another way of doing it.\n",
    "\n",
    "a = [1, 1, 2, 3, 5, 8, 13, 21, 34, 55, 89]\n",
    "b = [1, 2, 3, 4, 5, 6, 7, 8, 9, 10, 11, 12, 13]\n",
    "c = [x for x in a for y in b if x == y]\n",
    "print (set(c))"
   ]
  },
  {
   "cell_type": "markdown",
   "id": "21e1d761-971e-4f1e-9319-ba81c7077b30",
   "metadata": {},
   "source": [
    "#### 19. Develop a program that prints the pattern of right-angled triangles using a `for` loop. Use ‘*’ to draw the pattern"
   ]
  },
  {
   "cell_type": "code",
   "execution_count": 443,
   "id": "dbb50dd7-92c1-4c6a-bca9-26a849394a9e",
   "metadata": {},
   "outputs": [
    {
     "name": "stdin",
     "output_type": "stream",
     "text": [
      "Enter any number:  5\n"
     ]
    },
    {
     "name": "stdout",
     "output_type": "stream",
     "text": [
      "* \n",
      "* * \n",
      "* * * \n",
      "* * * * \n",
      "* * * * * \n"
     ]
    }
   ],
   "source": [
    "right_tri = int(input(\"Enter any number: \"))\n",
    "for i in range (right_tri):\n",
    "\n",
    "    for j in range (i+1):\n",
    "        print ('*',end = ' ')\n",
    "    print()"
   ]
  },
  {
   "cell_type": "markdown",
   "id": "cb41975a-d4ad-488d-ac19-47faa8657333",
   "metadata": {},
   "source": [
    "#### 20. Write a program to find the greatest common divisor (GCD) of two numbers using a `for` loop."
   ]
  },
  {
   "cell_type": "code",
   "execution_count": 457,
   "id": "ddf2c3b2-b37c-483a-84d4-ceb8b0375be0",
   "metadata": {},
   "outputs": [
    {
     "name": "stdout",
     "output_type": "stream",
     "text": [
      "4\n"
     ]
    }
   ],
   "source": [
    "gcd_1 =36\n",
    "gcd_2 =40\n",
    "\n",
    "for i in range(1, min(gcd_1,gcd_2)+1):\n",
    "    if gcd_1%i == 0 and gcd_2%i ==0:\n",
    "        result = i\n",
    "print(result)\n",
    "    "
   ]
  },
  {
   "cell_type": "code",
   "execution_count": 454,
   "id": "7db2c705-051f-4d18-979b-d955dc7e38f3",
   "metadata": {},
   "outputs": [
    {
     "name": "stdin",
     "output_type": "stream",
     "text": [
      "First  :  4\n",
      "Second :  5\n"
     ]
    },
    {
     "name": "stdout",
     "output_type": "stream",
     "text": [
      "1\n",
      "2\n",
      "3\n",
      "4\n",
      "1\n"
     ]
    }
   ],
   "source": [
    "num1 = int(input(\"First  : \"))\n",
    "num2 = int(input(\"Second : \"))\n",
    "\n",
    "for i in range(1, min(num1, num2) + 1):\n",
    "    print(i)\n",
    "    if num1 % i == 0 and num2 % i == 0:\n",
    "        result = i\n",
    "\n",
    "print(result)"
   ]
  },
  {
   "cell_type": "markdown",
   "id": "43a4b10f-d7a1-4087-b62f-f911047d89d1",
   "metadata": {},
   "source": [
    "# Advanced Level:"
   ]
  },
  {
   "cell_type": "markdown",
   "id": "f7804d66-5b15-479e-ae91-8cc52042184e",
   "metadata": {},
   "source": [
    "#### 21. Create a program that calculates the sum of the digits of numbers in a list using a list comprehension."
   ]
  },
  {
   "cell_type": "code",
   "execution_count": 26,
   "id": "bc19c237-9bd3-499a-92c0-4e610835158d",
   "metadata": {},
   "outputs": [
    {
     "name": "stdout",
     "output_type": "stream",
     "text": [
      "The result after adding the digits is :  [5, 9, 5, 11]\n"
     ]
    }
   ],
   "source": [
    "trial = [23,45,32,56]\n",
    "initiation = [ ]\n",
    "for i in trial:\n",
    "    initial_value = 0\n",
    "    for count in str(i):\n",
    "        initial_value += int(count)\n",
    "    initiation.append(initial_value)\n",
    "print (\"The result after adding the digits is : \",initiation )"
   ]
  },
  {
   "cell_type": "markdown",
   "id": "e8c19482-9761-4795-9454-5446b4524c20",
   "metadata": {},
   "source": [
    "#### 22. Write a program to find the prime factors of a given number using a `for` loop and list comprehension."
   ]
  },
  {
   "cell_type": "code",
   "execution_count": null,
   "id": "4fd9c36b-679e-4faf-9956-76b9673e58c1",
   "metadata": {},
   "outputs": [],
   "source": []
  },
  {
   "cell_type": "code",
   "execution_count": 505,
   "id": "2289d511-abbf-4028-bca7-0d9c8917a86d",
   "metadata": {},
   "outputs": [
    {
     "name": "stdin",
     "output_type": "stream",
     "text": [
      "Enter a number greater than 2: 343\n"
     ]
    },
    {
     "name": "stdout",
     "output_type": "stream",
     "text": [
      "the prime numbers for 343 are [7]\n"
     ]
    }
   ],
   "source": [
    "def prime_factor(n):\n",
    "    \n",
    "    factors = [i for i in range (2,n+1) if n%i ==0]\n",
    "    prime_factor = []\n",
    "    \n",
    "    for factor in factors:\n",
    "        is_prime = True\n",
    "        \n",
    "        for i in range (2,int(factor**0.5)+1):\n",
    "            if factor % i == 0:\n",
    "                is_prime = False\n",
    "                break\n",
    "                \n",
    "        if is_prime:\n",
    "            prime_factor.append(factor)\n",
    "            \n",
    "    return prime_factor\n",
    "\n",
    "num = int(input(\"Enter a number greater than 2:\"))\n",
    "if num < 2:\n",
    "    print(\"there are no prime factors less than the value 2.\")\n",
    "else:\n",
    "    result = prime_factor(num)\n",
    "    print (f\"the prime numbers for {num} are {result}\")   "
   ]
  },
  {
   "cell_type": "code",
   "execution_count": null,
   "id": "c85a6d80-200f-4117-808f-748a3454c6f8",
   "metadata": {},
   "outputs": [],
   "source": []
  },
  {
   "cell_type": "markdown",
   "id": "8be09924-e39e-4916-ab6d-8b0c55cf9883",
   "metadata": {},
   "source": [
    "#### 23. Develop a program that extracts unique elements from a list and stores them in a new list using a list comprehension."
   ]
  },
  {
   "cell_type": "code",
   "execution_count": 482,
   "id": "51af4ce2-41cd-4371-8a6e-109ff33894e5",
   "metadata": {},
   "outputs": [
    {
     "name": "stdin",
     "output_type": "stream",
     "text": [
      "Enter a list of elements separated by spaces:  [34,56,5,4]\n"
     ]
    },
    {
     "name": "stdout",
     "output_type": "stream",
     "text": [
      "Unique elements from the list: ['[34,56,5,4]']\n"
     ]
    }
   ],
   "source": [
    "# Input a list from the user\n",
    "original_list = input(\"Enter a list of elements separated by spaces: \").split()\n",
    "\n",
    "# Using a list comprehension to extract unique elements\n",
    "unique_elements = [x for i, x in enumerate(original_list) if x not in original_list[:i]]\n",
    "\n",
    "# Printing the unique elements\n",
    "print(\"Unique elements from the list:\", unique_elements)\n"
   ]
  },
  {
   "cell_type": "code",
   "execution_count": null,
   "id": "af076f72-1662-4b03-ab54-9f8b3df1f5d8",
   "metadata": {},
   "outputs": [],
   "source": []
  },
  {
   "cell_type": "markdown",
   "id": "888b8169-59f8-4fe4-ab2e-7ea33025b041",
   "metadata": {},
   "source": [
    "### 24. Create a program that generates a list of all palindromic numbers up to a specified limit using a list comprehension."
   ]
  },
  {
   "cell_type": "code",
   "execution_count": 6,
   "id": "d8ad1fd6-a592-4910-90a7-e6257b4eca1e",
   "metadata": {},
   "outputs": [
    {
     "name": "stdin",
     "output_type": "stream",
     "text": [
      "Enter the upper limit:  45\n"
     ]
    },
    {
     "name": "stdout",
     "output_type": "stream",
     "text": [
      "Palindromic numbers up to 45 are: [0, 1, 2, 3, 4, 5, 6, 7, 8, 9, 11, 22, 33, 44]\n"
     ]
    }
   ],
   "source": [
    "# Function to check if a number is a palindrome\n",
    "def is_palindrome(number):\n",
    "    return str(number) == str(number)[::-1]\n",
    "\n",
    "# Input the upper limit from the user\n",
    "limit = int(input(\"Enter the upper limit: \"))\n",
    "\n",
    "# Generate a list of palindromic numbers up to the specified limit using a list comprehension\n",
    "palindromic_numbers = [num for num in range(limit + 1) if is_palindrome(num)]\n",
    "\n",
    "# Print the list of palindromic numbers\n",
    "print(\"Palindromic numbers up to\", limit, \"are:\", palindromic_numbers)\n"
   ]
  },
  {
   "cell_type": "code",
   "execution_count": 15,
   "id": "a0e2a27f-d74b-4d53-9f25-51fc4d1a913d",
   "metadata": {},
   "outputs": [
    {
     "name": "stdin",
     "output_type": "stream",
     "text": [
      "Enter the input: 36\n"
     ]
    },
    {
     "name": "stdout",
     "output_type": "stream",
     "text": [
      "The number 36 has these many palindrome [0, 1, 2, 3, 4, 5, 6, 7, 8, 9, 11, 22, 33], the nymber of elemets are 13\n"
     ]
    }
   ],
   "source": [
    "def num_is_palindrome(number):\n",
    "    return str(number) == str(number)[::-1]\n",
    "\n",
    "random_number = int(input(\"Enter the input:\"))\n",
    "\n",
    "check_palindrome = [num for num in range(random_number+1)if num_is_palindrome(num)]\n",
    "palindrome_count = len(check_palindrome)\n",
    "\n",
    "print (f\"The number {random_number} has these many palindrome {check_palindrome}, the nymber of elemets are {palindrome_count}\")"
   ]
  },
  {
   "cell_type": "code",
   "execution_count": null,
   "id": "110799d6-4132-4cc7-8fce-667236959e09",
   "metadata": {},
   "outputs": [],
   "source": []
  },
  {
   "cell_type": "markdown",
   "id": "8253c3e6-7d9c-4a20-be0b-a91d25efd93c",
   "metadata": {},
   "source": [
    "#### 25. Write a program to flatten a nested list using list comprehension."
   ]
  },
  {
   "cell_type": "code",
   "execution_count": 19,
   "id": "6ef2f1b9-d13e-4ea2-b413-e3bab0a3f642",
   "metadata": {},
   "outputs": [
    {
     "name": "stdout",
     "output_type": "stream",
     "text": [
      "the list before flattening is [[3, 4, 5], [4, 5, 6], [5, 6, 7]] and after flattening is [3, 4, 5, 4, 5, 6, 5, 6, 7]\n"
     ]
    }
   ],
   "source": [
    "my_matrix = [[3,4,5],[4,5,6],[5,6,7]]\n",
    "flattened = [ele for row in my_matrix for ele in row]\n",
    "print(f\"the list before flattening is {my_matrix} and after flattening is {flattened}\" )"
   ]
  },
  {
   "cell_type": "markdown",
   "id": "ee3f3270-abc4-44f9-8d57-a82efd244cd6",
   "metadata": {},
   "source": [
    "#### 26. Develop a program that computes the sum of even and odd numbers in a list separately using list comprehension."
   ]
  },
  {
   "cell_type": "code",
   "execution_count": 25,
   "id": "6d715f20-268c-4bf0-8090-b828ff6a5125",
   "metadata": {},
   "outputs": [
    {
     "name": "stdout",
     "output_type": "stream",
     "text": [
      "the number in the list are:  [23, 45, 67]\n",
      "sum of odd numbers: 135\n",
      "the even numbers in the list are:  [88, 98, 354, 678]\n",
      "sum of even numbers: 1218\n"
     ]
    }
   ],
   "source": [
    "odd_even_list = [23,45,67,88,98,354,678]\n",
    "\n",
    "odd_seperate = [odd for odd in odd_even_list if odd%2!=0]\n",
    "even_seperate = [even for even in odd_even_list if even%2 ==0]\n",
    "sum_odd = sum(odd_seperate)\n",
    "sum_even = sum(even_seperate)\n",
    "print(\"the number in the list are: \",odd_seperate)\n",
    "print(\"sum of odd numbers:\",sum_odd)\n",
    "print(\"the even numbers in the list are: \",even_seperate)\n",
    "print(\"sum of even numbers:\", sum_even)\n",
    "    "
   ]
  },
  {
   "cell_type": "markdown",
   "id": "eaa2eb36-29d8-445a-97eb-a2979b124935",
   "metadata": {},
   "source": [
    "#### 27. Create a program that generates a list of squares of odd numbers between 1 and 10 using list comprehension."
   ]
  },
  {
   "cell_type": "code",
   "execution_count": 29,
   "id": "2748b781-6d43-4661-a599-6237d9a3f342",
   "metadata": {},
   "outputs": [
    {
     "name": "stdout",
     "output_type": "stream",
     "text": [
      "[1, 9, 25, 49, 81]\n"
     ]
    }
   ],
   "source": [
    "''' for generating the odd sqaure number in the range of 1 to 11,  \n",
    "the element is sqaured and element modulus is not equal to zero for genrating odd number\n",
    "'''\n",
    "odd_square = [ele**2 for ele in range(1,11) if ele%2 != 0]\n",
    "print(odd_square)"
   ]
  },
  {
   "cell_type": "code",
   "execution_count": null,
   "id": "9c950947-a1e2-495f-8fb8-74c39ffec234",
   "metadata": {},
   "outputs": [],
   "source": []
  },
  {
   "cell_type": "markdown",
   "id": "45037fa4-9fc1-428c-ab08-ce3bf92415ff",
   "metadata": {},
   "source": [
    "#### 28. Write a program that combines two lists into a dictionary using list comprehension."
   ]
  },
  {
   "cell_type": "code",
   "execution_count": null,
   "id": "4c0b747b-b903-4a62-be36-491c255bf56a",
   "metadata": {},
   "outputs": [
    {
     "name": "stdout",
     "output_type": "stream",
     "text": [
      "Combined dictionary: {'a': 1, 'b': 2, 'c': 3, 'D': 4}\n"
     ]
    }
   ],
   "source": [
    "# Input two lists (you can replace these with your own lists)\n",
    "keys = [\"a\", \"b\", \"c\",'D']\n",
    "values = [1, 2, 3,4]\n",
    "\n",
    "# Using list comprehension to combine the lists into a dictionary\n",
    "combined_dict = {keys[i]: values[i] for i in range(min(len(keys), len(values)))}\n",
    "\n",
    "# Print the resulting dictionary\n",
    "print(\"Combined dictionary:\", combined_dict)\n"
   ]
  },
  {
   "cell_type": "code",
   "execution_count": 34,
   "id": "edc20cac-e5aa-4189-aa9b-77d5d3886a0c",
   "metadata": {},
   "outputs": [
    {
     "name": "stdout",
     "output_type": "stream",
     "text": [
      "{'Harsha': 38, 'Ravi': 34, 'guru': 27, 'aruna': 34}\n"
     ]
    }
   ],
   "source": [
    "friend_name = [\"Harsha\", \"Ravi\", \"guru\", \"aruna\"]\n",
    "friend_age = [38,34,27,34]\n",
    "\n",
    "friend_group = {friend_name[i] : friend_age[i] for i in range(min(len(friend_name),len(friend_age)))}\n",
    "print(friend_group)"
   ]
  },
  {
   "cell_type": "code",
   "execution_count": null,
   "id": "a2c57578-ada7-454f-ab23-f6d1fb7ee040",
   "metadata": {},
   "outputs": [],
   "source": []
  },
  {
   "cell_type": "markdown",
   "id": "19792ffc-22a1-4e96-b5f4-2341f9904123",
   "metadata": {},
   "source": [
    "#### 29. Develop a program that extracts the vowels from a string and stores them in a list using list comprehension."
   ]
  },
  {
   "cell_type": "code",
   "execution_count": 38,
   "id": "ecc35089-2ca6-4382-b1c9-d055e59bb017",
   "metadata": {},
   "outputs": [
    {
     "name": "stdout",
     "output_type": "stream",
     "text": [
      "{'a', 'u', 'E'}\n"
     ]
    }
   ],
   "source": [
    "word = \"guru prathap REDDY\"\n",
    "\n",
    "find_vowels = {letter for letter in word if letter in 'aeiouAEIOU' }\n",
    "print (find_vowels)\n",
    "            "
   ]
  },
  {
   "cell_type": "code",
   "execution_count": null,
   "id": "1e53d2c7-e5d6-410c-8b0a-e625a460ebf3",
   "metadata": {},
   "outputs": [],
   "source": []
  },
  {
   "cell_type": "markdown",
   "id": "67165040-db49-4a00-b699-89d245bd2578",
   "metadata": {},
   "source": [
    "#### 30. Create a program that removes all non-numeric characters from a list of strings using list comprehension."
   ]
  },
  {
   "cell_type": "code",
   "execution_count": 51,
   "id": "d8ff1caa-e90f-4926-9204-90f5d001484a",
   "metadata": {},
   "outputs": [
    {
     "name": "stdout",
     "output_type": "stream",
     "text": [
      "['345', '342']\n",
      "None\n"
     ]
    }
   ],
   "source": [
    "mixed_list = [\"guru345\",\"ravi342\"]\n",
    "remove_num = [ ''.join(char for char in string if char.isdigit()) for string in mixed_list] \n",
    "print(remove_num)\n",
    "print(final_string)\n"
   ]
  },
  {
   "cell_type": "code",
   "execution_count": 41,
   "id": "0fb2aa7f-7ef2-44a3-b5bd-66340fde0e48",
   "metadata": {},
   "outputs": [
    {
     "name": "stdout",
     "output_type": "stream",
     "text": [
      "Original list of strings: ['abc123', 'def456', 'xyz789']\n",
      "List of cleaned strings: ['123', '456', '789']\n"
     ]
    }
   ],
   "source": [
    "# Input a list of strings (you can replace this with your own list)\n",
    "string_list = [\"abc123\", \"def456\", \"xyz789\"]\n",
    "\n",
    "# Using list comprehension to remove non-numeric characters from each string\n",
    "cleaned_strings = [''.join(char for char in string if char.isdigit()) for string in string_list]\n",
    "\n",
    "# Print the list of cleaned strings\n",
    "print(\"Original list of strings:\", string_list)\n",
    "print(\"List of cleaned strings:\", cleaned_strings)\n"
   ]
  },
  {
   "cell_type": "code",
   "execution_count": null,
   "id": "d36780c8-9c85-426a-aee2-4469b75db68d",
   "metadata": {},
   "outputs": [],
   "source": []
  },
  {
   "cell_type": "markdown",
   "id": "3fa1333b-12a9-43df-bf4d-6dee1b2d0397",
   "metadata": {
    "tags": []
   },
   "source": [
    "#### 31. Write a program to generate a list of prime numbers using the Sieve of Eratosthenes algorithm and list comprehension."
   ]
  },
  {
   "cell_type": "code",
   "execution_count": 52,
   "id": "d465ab14-d21d-49df-b994-6810df805300",
   "metadata": {},
   "outputs": [
    {
     "name": "stdin",
     "output_type": "stream",
     "text": [
      "Enter the maximum number to generate prime numbers up to:  30\n"
     ]
    },
    {
     "name": "stdout",
     "output_type": "stream",
     "text": [
      "Prime numbers up to 30 are: [2, 3, 5, 7, 11, 13, 17, 19, 23, 29]\n"
     ]
    }
   ],
   "source": [
    "def sieve_eratosthenes(n):\n",
    "    # Create a list of True values to represent numbers from 0 to n\n",
    "    is_prime = [True] * (n + 1)\n",
    "    is_prime[0] = is_prime[1] = False  # 0 and 1 are not prime numbers\n",
    "    \n",
    "    # Implement the Sieve of Eratosthenes algorithm\n",
    "    for current_num in range(2, int(n**0.5) + 1):\n",
    "        if is_prime[current_num]:\n",
    "            for multiple in range(current_num * current_num, n + 1, current_num):\n",
    "                is_prime[multiple] = False\n",
    "\n",
    "    # Use list comprehension to generate a list of prime numbers\n",
    "    primes = [num for num in range(2, n + 1) if is_prime[num]]\n",
    "    \n",
    "    return primes\n",
    "\n",
    "# Input the maximum number to generate prime numbers up to\n",
    "n = int(input(\"Enter the maximum number to generate prime numbers up to: \"))\n",
    "\n",
    "# Generate and print the list of prime numbers\n",
    "prime_list = sieve_eratosthenes(n)\n",
    "print(\"Prime numbers up to\", n, \"are:\", prime_list)\n"
   ]
  },
  {
   "cell_type": "markdown",
   "id": "d524df54-ceb4-4882-ad2e-a891e2a22953",
   "metadata": {},
   "source": [
    "#### 32. Create a program that generates a list of all Pythagorean triplets up to a specified limit using list comprehension.\n"
   ]
  },
  {
   "cell_type": "code",
   "execution_count": null,
   "id": "b4f3ac6b-5dd2-4a4e-897b-2410aca279d1",
   "metadata": {},
   "outputs": [],
   "source": [
    "# Taking an input to generate a pythgorean triplets.\n",
    "pytha_num = int(input(\"Enter a number to different numbers of pythagorean values: \"))\n",
    "\n"
   ]
  },
  {
   "cell_type": "code",
   "execution_count": 27,
   "id": "95d26737-d0d7-4421-b4ba-d432d53e7a74",
   "metadata": {},
   "outputs": [
    {
     "name": "stdin",
     "output_type": "stream",
     "text": [
      "Enter the limit to generate Pythagorean triplets up to:  10\n"
     ]
    },
    {
     "name": "stdout",
     "output_type": "stream",
     "text": [
      "Pythagorean Triplets up to 10 are:\n",
      "(6, 8, 10)\n",
      "(3, 4, 5)\n"
     ]
    }
   ],
   "source": [
    "# Input a limit to generate Pythagorean triplets up to that limit\n",
    "limit = int(input(\"Enter the limit to generate Pythagorean triplets up to: \"))\n",
    "\n",
    "# Use list comprehension to generate Pythagorean triplets\n",
    "triplets = [(a, b, c) for a in range(1, limit + 1)\n",
    "                      for b in range(a, limit + 1)\n",
    "                      for c in range(b, limit + 1)\n",
    "                      if a**2 + b**2 == c**2]\n",
    "\n",
    "# Filter out duplicates and permutations\n",
    "unique_triplets = list(set(tuple(sorted(triplet)) for triplet in triplets))\n",
    "\n",
    "# Print the list of unique Pythagorean triplets\n",
    "print(\"Pythagorean Triplets up to\", limit, \"are:\")\n",
    "for triplet in unique_triplets:\n",
    "    print(triplet)\n"
   ]
  },
  {
   "cell_type": "markdown",
   "id": "740c07e0-cd6e-43ee-9794-4a0f06080d3b",
   "metadata": {},
   "source": [
    "#### 33. Develop a program that generates a list of all possible combinations of two lists using list comprehension.\n"
   ]
  },
  {
   "cell_type": "code",
   "execution_count": null,
   "id": "a900144f-c50b-4fd1-9665-538dc781b992",
   "metadata": {},
   "outputs": [],
   "source": []
  },
  {
   "cell_type": "markdown",
   "id": "fa316936-6113-4344-a809-7b06792925bb",
   "metadata": {},
   "source": [
    "#### 34. Write a program that calculates the mean, median, and mode of a list of numbers using list comprehension.\n"
   ]
  },
  {
   "cell_type": "code",
   "execution_count": 15,
   "id": "4992e2b4-65ae-4fcb-9d9e-c2cda3f1c1f9",
   "metadata": {},
   "outputs": [
    {
     "name": "stdout",
     "output_type": "stream",
     "text": [
      "the mean value is:  22.375\n",
      "The median value is:  23.0\n",
      "The mode value is:  [23]\n"
     ]
    }
   ],
   "source": [
    "cal_num = [23,4,5,45,34,23,12,33]\n",
    "# MEAN: here we are taking the sum of the numbers in the list and dividing it by the count of numbers\n",
    "mean = sum(cal_num)/(count_num) if cal_num else None\n",
    "\n",
    "# MEDIAN: If the count of numbers is oddtake the middle value, if the count is even select the middle two values, and divide them\n",
    "sort_num = sorted(cal_num)\n",
    "n = len(sort_num)\n",
    "median = (sort_num[n//2]+ sort_num [(n-1)//2])/2 if cal_num else None\n",
    "\n",
    "# MODE: It searches for the most commonly appearing element in the list\n",
    "count_dict = { }\n",
    "for value in cal_num:\n",
    "    if value in count_dict:\n",
    "        count_dict[value] +=1\n",
    "    else:\n",
    "        count_dict[value] =1\n",
    "max_count = max(count_dict.values())\n",
    "mode = [key for key, value in count_dict.items() if value == max_count]\n",
    "\n",
    "\n",
    "\n",
    "if mean is not None:\n",
    "    print(\"the mean value is: \", mean)\n",
    "\n",
    "else:\n",
    "    print(\"the mean is none.\")\n",
    "\n",
    "if median is not None:\n",
    "    print(\"The median value is: \", median)\n",
    "\n",
    "else:\n",
    "    print(\"the median is none.\")\n",
    "\n",
    "if mode is not None:\n",
    "    print(\"The mode value is: \", mode)\n",
    "\n",
    "else:\n",
    "    print(\"The mode value is none.\")"
   ]
  },
  {
   "cell_type": "markdown",
   "id": "de536c91-2774-4caa-85c1-bc7c89b17f3d",
   "metadata": {},
   "source": [
    "#### 35. Create a program that generates Pascal's triangle up to a specified number of rows using list comprehension."
   ]
  },
  {
   "cell_type": "code",
   "execution_count": 18,
   "id": "4ef9e568-4f14-4cfa-af78-b091224983d7",
   "metadata": {},
   "outputs": [
    {
     "name": "stdin",
     "output_type": "stream",
     "text": [
      "Enter the number of rows for Pascal's triangle:  10\n"
     ]
    },
    {
     "name": "stdout",
     "output_type": "stream",
     "text": [
      "             1             \n",
      "            1 1            \n",
      "           1 2 1           \n",
      "          1 3 3 1          \n",
      "         1 4 6 4 1         \n",
      "       1 5 10 10 5 1       \n",
      "      1 6 15 20 15 6 1     \n",
      "    1 7 21 35 35 21 7 1    \n",
      "   1 8 28 56 70 56 28 8 1  \n",
      "1 9 36 84 126 126 84 36 9 1\n"
     ]
    }
   ],
   "source": [
    "def generate_pascals_triangle(n):\n",
    "    triangle = [[1]]\n",
    "    \n",
    "    for i in range(1, n):\n",
    "        # Use list comprehension to generate the next row based on the previous row\n",
    "        row = [1] + [triangle[i-1][j-1] + triangle[i-1][j] for j in range(1, i)] + [1]\n",
    "        triangle.append(row)\n",
    "    \n",
    "    return triangle\n",
    "\n",
    "def print_pascals_triangle(triangle):\n",
    "    max_width = len(' '.join(map(str, triangle[-1])))\n",
    "    \n",
    "    for row in triangle:\n",
    "        row_str = ' '.join(map(str, row))\n",
    "        print(row_str.center(max_width))\n",
    "\n",
    "try:\n",
    "    num_rows = int(input(\"Enter the number of rows for Pascal's triangle: \"))\n",
    "    if num_rows < 1:\n",
    "        raise ValueError(\"Number of rows must be at least 1.\")\n",
    "    \n",
    "    pascals_triangle = generate_pascals_triangle(num_rows)\n",
    "    print_pascals_triangle(pascals_triangle)\n",
    "except ValueError as e:\n",
    "    print(f\"Error: {e}\")\n"
   ]
  },
  {
   "cell_type": "markdown",
   "id": "d03e221f-c45a-4575-a235-6a1f6da660c2",
   "metadata": {},
   "source": [
    "#### 36. Develop a program that calculates the sum of the digits of a factorial of numbers from 1 to 5 using list comprehension.\n"
   ]
  },
  {
   "cell_type": "code",
   "execution_count": 29,
   "id": "63bcd378-9fa7-497e-80f7-c5a5e96220ef",
   "metadata": {},
   "outputs": [
    {
     "name": "stdout",
     "output_type": "stream",
     "text": [
      "[1, 3, 6, 10, 15]\n"
     ]
    }
   ],
   "source": [
    "fact_num = 5 \n",
    "fac_cal = 0\n",
    "fac_count = [fac_cal := fac_cal + num for num in range (1,fact_num+1)]\n",
    "print (fac_count)\n",
    "    "
   ]
  },
  {
   "cell_type": "markdown",
   "id": "012bf7b3-90e4-42f2-9eb3-6a9a66b30aa7",
   "metadata": {},
   "source": [
    "#### 37. Write a program that finds the longest word in a sentence using list comprehension."
   ]
  },
  {
   "cell_type": "code",
   "execution_count": 35,
   "id": "c4618a62-919d-4304-bae1-00cad7edb913",
   "metadata": {},
   "outputs": [
    {
     "name": "stdin",
     "output_type": "stream",
     "text": [
      "Enter a sentence:  this is how there kacal\n"
     ]
    },
    {
     "name": "stdout",
     "output_type": "stream",
     "text": [
      "the longest word in the dictonary is:  there\n"
     ]
    }
   ],
   "source": [
    "# Function to find the longest word in a sentence using list comprehension\n",
    "def find_longest_word(sentence):\n",
    "    words = sentence.split()  # Split the sentence into words\n",
    "    longest_word = max((word for word in words), key=len)  # List comprehension to find the longest word\n",
    "    return longest_word\n",
    "\n",
    "# Input sentence\n",
    "sentence = input(\"Enter a sentence: \")\n",
    "\n",
    "# Find and print the longest word\n",
    "longest_word = find_longest_word(sentence)\n",
    "print(f\"The longest word in the sentence is: {longest_word}\")\n"
   ]
  },
  {
   "cell_type": "markdown",
   "id": "6a969e5b-97f3-4115-991a-0a5f1cba7dc5",
   "metadata": {},
   "source": [
    "#### 38. Create a program that filters a list of strings to include only those with more than three vowels using list comprehension.\n"
   ]
  },
  {
   "cell_type": "code",
   "execution_count": 5,
   "id": "04d9e890-3f18-4632-a587-41c670370f34",
   "metadata": {},
   "outputs": [
    {
     "name": "stdout",
     "output_type": "stream",
     "text": [
      "['guava', 'pineapple', 'mandarin orange']\n"
     ]
    }
   ],
   "source": [
    "import re\n",
    "\n",
    "fruits = [\"mango\", \"kiwi\", \"strawberry\", \"guava\", \"pineapple\", \"mandarin orange\"]\n",
    "results = [i for i in fruits if len(re.sub(r\"[^aeiouAEIOU]\", \"\", i)) > 2]\n",
    "\n",
    "print(results)"
   ]
  },
  {
   "cell_type": "markdown",
   "id": "e5d5b93d-f309-467a-8815-00c3c4b37480",
   "metadata": {},
   "source": [
    "#### 39. Develop a program that calculates the sum of the digits of numbers from 1 to 1000 using list comprehension.\n",
    "\n"
   ]
  },
  {
   "cell_type": "code",
   "execution_count": 34,
   "id": "dd4f2826-8157-45ed-9c28-e984245d7f00",
   "metadata": {},
   "outputs": [
    {
     "name": "stdout",
     "output_type": "stream",
     "text": [
      "Sum of digits for numbers from 1 to 1000: 13501\n"
     ]
    }
   ],
   "source": [
    "# Function to calculate the sum of digits of a number\n",
    "def sum_of_digits(number):\n",
    "    return sum(int(digit) for digit in str(number))\n",
    "\n",
    "# Use list comprehension to calculate the sum of digits for numbers from 1 to 1000\n",
    "sums_of_digits = [sum_of_digits(number) for number in range(1, 1001)]\n",
    "\n",
    "# Calculate and print the total sum of the sums_of_digits list\n",
    "total_sum = sum(sums_of_digits)\n",
    "\n",
    "print(f\"Sum of digits for numbers from 1 to 1000: {total_sum}\")\n",
    "    "
   ]
  },
  {
   "cell_type": "markdown",
   "id": "628adab2-5ba8-4647-9752-a81f19824a6b",
   "metadata": {},
   "source": [
    "#### 40. Write a program that generates a list of prime palindromic numbers using list comprehension."
   ]
  },
  {
   "cell_type": "code",
   "execution_count": 6,
   "id": "1d1c63c6-2f61-4c46-ae18-dc98dd8eac20",
   "metadata": {},
   "outputs": [
    {
     "name": "stdout",
     "output_type": "stream",
     "text": [
      "[2, 3, 5, 7, 11, 101, 131, 151, 181, 191, 313, 353, 373, 383, 727, 757, 787, 797, 919, 929]\n"
     ]
    }
   ],
   "source": [
    "def is_prime(num):\n",
    "    if num <= 1:\n",
    "        return False\n",
    "    if num <= 3:\n",
    "        return True\n",
    "    if num % 2 == 0 or num % 3 == 0:\n",
    "        return False\n",
    "    i = 5\n",
    "    while i * i <= num:\n",
    "        if num % i == 0 or num % (i + 2) == 0:\n",
    "            return False\n",
    "        i += 6\n",
    "    return True\n",
    "\n",
    "def is_palindrome(num):\n",
    "    return str(num) == str(num)[::-1]\n",
    "\n",
    "# Generate a list of prime palindromic numbers using list comprehension\n",
    "prime_palindromes = [num for num in range(1, 1000) if is_prime(num) and is_palindrome(num)]\n",
    "\n",
    "print(prime_palindromes)\n"
   ]
  },
  {
   "cell_type": "code",
   "execution_count": null,
   "id": "666a295c",
   "metadata": {},
   "outputs": [],
   "source": []
  }
 ],
 "metadata": {
  "kernelspec": {
   "display_name": "Python 3 (ipykernel)",
   "language": "python",
   "name": "python3"
  },
  "language_info": {
   "codemirror_mode": {
    "name": "ipython",
    "version": 3
   },
   "file_extension": ".py",
   "mimetype": "text/x-python",
   "name": "python",
   "nbconvert_exporter": "python",
   "pygments_lexer": "ipython3",
   "version": "3.10.9"
  }
 },
 "nbformat": 4,
 "nbformat_minor": 5
}
