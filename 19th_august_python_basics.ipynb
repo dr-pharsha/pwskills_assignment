{
 "cells": [
  {
   "cell_type": "markdown",
   "id": "b3d17c2d-6dc1-460d-ad44-c97c03f10794",
   "metadata": {},
   "source": [
    "# Assignment -1 ;Date-19-8-23"
   ]
  },
  {
   "cell_type": "markdown",
   "id": "9d6413c2-0d52-4f78-a5e3-c7de50076f68",
   "metadata": {},
   "source": [
    "## TOPIC: PythonBasicsVariable"
   ]
  },
  {
   "cell_type": "markdown",
   "id": "ba25f9f8-275a-4019-9a25-1beafa268cb3",
   "metadata": {},
   "source": [
    "[1] Declare two variables, `x` and `y`, and assign them integer values. Swap the values of these variables without using any temporary variable."
   ]
  },
  {
   "cell_type": "code",
   "execution_count": 5,
   "id": "458ac5c7-0af8-4fbd-a62c-a841983e4b35",
   "metadata": {},
   "outputs": [
    {
     "name": "stdout",
     "output_type": "stream",
     "text": [
      "30 25\n"
     ]
    }
   ],
   "source": [
    "x = 25 # intiger variable\n",
    "y = 30 # intiger variable\n",
    "x,y = y,x # i am swaping x = y and y = x in this case.\n",
    "print (x,y)"
   ]
  },
  {
   "cell_type": "markdown",
   "id": "18e56d2a-b858-4230-8dee-4b964464f20f",
   "metadata": {},
   "source": [
    "[2]. Create a program that calculates the area of a rectangle. Take the length and width as inputs from the user and store them in variables. Calculate and display the area."
   ]
  },
  {
   "cell_type": "code",
   "execution_count": 10,
   "id": "05bb050a-f089-4427-afdf-0b2b99921a24",
   "metadata": {},
   "outputs": [
    {
     "name": "stdin",
     "output_type": "stream",
     "text": [
      "Enter the length of the recatanlge: 32.2\n",
      "Enter the breadth of the rectangle:  34.2\n"
     ]
    },
    {
     "name": "stdout",
     "output_type": "stream",
     "text": [
      "The area of rectnagle is  1101.2400000000002 m^2.\n"
     ]
    }
   ],
   "source": [
    "length = float(input (\"Enter the length of the recatanlge:\" )) # enter the unit in meters and declaring the input in int.\n",
    "breadth = float(input (\"Enter the breadth of the rectangle: \")) # enter the unit in meters and declaring the input in int.\n",
    "area = length * breadth      # multiplying using arthimatic operator as area = length * breadth\n",
    "print (\"The area of rectnagle is \",area,\"m^2.\")"
   ]
  },
  {
   "cell_type": "markdown",
   "id": "21b5d51b-e9df-489a-bd40-74327e7d6755",
   "metadata": {},
   "source": [
    "3. Write a Python program that converts temperatures from Celsius to Fahrenheit. Take the temperature in Celsius as input, store it in a variable, convert it to Fahrenheit, and display the result."
   ]
  },
  {
   "cell_type": "code",
   "execution_count": 14,
   "id": "270ebfb1-a4cd-4f13-9da8-a2405e292067",
   "metadata": {},
   "outputs": [
    {
     "name": "stdin",
     "output_type": "stream",
     "text": [
      "Enter the teperature in degress celcius: 32\n"
     ]
    },
    {
     "name": "stdout",
     "output_type": "stream",
     "text": [
      "the temperature in fahrenheit is  89.6 °F’.\n"
     ]
    }
   ],
   "source": [
    "''' converting Celcius to fahrenheit. To do this multiply degrees with 1.8 and the add with 32. (30°C x 1.8) + 32 = 86°F’.'''\n",
    "temp_celcius = float(input(\"Enter the teperature in degress celcius:\")) # temperature is the variable.\n",
    "temp_fahrenheit = ((temp_celcius*1.8)+32)\n",
    "print(\"the temperature in fahrenheit is \",temp_fahrenheit,\"°F’.\")"
   ]
  },
  {
   "cell_type": "markdown",
   "id": "428a46af-a3ff-491c-ae0c-18558fb618ef",
   "metadata": {},
   "source": [
    "## TOPIC: String Based Questions"
   ]
  },
  {
   "cell_type": "markdown",
   "id": "406f6f1a-51d7-4f5c-8327-eb75480f18d4",
   "metadata": {},
   "source": [
    "1. Write a Python program that takes a string as input and prints the length of the string."
   ]
  },
  {
   "cell_type": "code",
   "execution_count": 19,
   "id": "5cec8ce5-3b58-4656-a517-793bce5a1cfc",
   "metadata": {},
   "outputs": [
    {
     "name": "stdin",
     "output_type": "stream",
     "text": [
      "Give some words as input here:  kguhn787\n"
     ]
    },
    {
     "name": "stdout",
     "output_type": "stream",
     "text": [
      "8\n"
     ]
    }
   ],
   "source": [
    "enter_word = input(\"Give some words as input here: \") # the inoput of the word is stored in the variable.\n",
    "print(len(enter_word)) # the function len will give the length of the string.                "
   ]
  },
  {
   "cell_type": "markdown",
   "id": "978f8238-261c-4e67-9410-451475a919a6",
   "metadata": {},
   "source": [
    "2. Create a program that takes a sentence from the user and counts the number of vowels (a, e, i, o, u) in the string.\n"
   ]
  },
  {
   "cell_type": "code",
   "execution_count": 59,
   "id": "adac026f-91d8-4394-8629-40b154a63c76",
   "metadata": {},
   "outputs": [
    {
     "name": "stdin",
     "output_type": "stream",
     "text": [
      "Enter the input of a string qiuwhiuwdw ouhouihqdfwe\n"
     ]
    },
    {
     "name": "stdout",
     "output_type": "stream",
     "text": [
      "the total vowels are  10\n"
     ]
    }
   ],
   "source": [
    "string_input = str(input(\"Enter the input of a string\"))\n",
    "count = 0\n",
    "vowels = 'aeiouAEIOU'    # declaring a variable called vowels\n",
    "\n",
    "for i in string_input:\n",
    "    if i in vowels:\n",
    "        count +=1\n",
    "        \n",
    "if count == 0: \n",
    "        print(\"No vowles found.\")                # if no vowles are in the given input, this will be printed\n",
    "else:\n",
    "        print(\"the total vowels are \", count)    # if vowles are in the given input, this will be printed\n",
    "        \n",
    "    "
   ]
  },
  {
   "cell_type": "markdown",
   "id": "e4206141-8d82-4c61-8055-738076dc0209",
   "metadata": {},
   "source": [
    "3. Given a string, reverse the order of characters using string slicing and print the reversed string.\n"
   ]
  },
  {
   "cell_type": "code",
   "execution_count": 78,
   "id": "bd4c1746-6863-409c-8e0b-a2df479ec0a7",
   "metadata": {},
   "outputs": [
    {
     "name": "stdin",
     "output_type": "stream",
     "text": [
      "enter a word  mom\n"
     ]
    },
    {
     "name": "stdout",
     "output_type": "stream",
     "text": [
      "the reverse of the word is  ' mom '\n"
     ]
    }
   ],
   "source": [
    "word_input = input(\"enter a word \")                 # giving a word or sentecne as input \n",
    "reverse = word_input[::-1]                          # using slicing we have reversed the output into reverse\n",
    "print(\"the reverse of the word is \",\"'\",reverse,\"'\")"
   ]
  },
  {
   "cell_type": "markdown",
   "id": "199cfaf0-a0c4-4212-a073-73ddb164a8c0",
   "metadata": {},
   "source": [
    "4. Write a program that takes a string as input and checks if it is a palindrome (reads the same forwards and backwards)."
   ]
  },
  {
   "cell_type": "code",
   "execution_count": 69,
   "id": "42a7afb9-0d0b-458a-9e8f-2e6e54454220",
   "metadata": {},
   "outputs": [
    {
     "name": "stdin",
     "output_type": "stream",
     "text": [
      "Enter a word mom\n"
     ]
    },
    {
     "name": "stdout",
     "output_type": "stream",
     "text": [
      "Yes\n"
     ]
    }
   ],
   "source": [
    "palindrome = input(\"Enter a word\")\n",
    " \n",
    "store = \"\"\n",
    "for i in palindrome:\n",
    "    store = i + store\n",
    " \n",
    "if (palindrome == store):\n",
    "    print(\"Yes\")\n",
    "else:\n",
    "    print(\"No\")"
   ]
  },
  {
   "cell_type": "markdown",
   "id": "ebdeefb3-a079-464e-a0f4-c613d9eb9449",
   "metadata": {},
   "source": [
    "5. Create a program that takes a string as input and removes all the spaces from it. Print the modified string without spaces."
   ]
  },
  {
   "cell_type": "code",
   "execution_count": 83,
   "id": "68a11191-a1b5-4e37-9795-a18ce2292c32",
   "metadata": {},
   "outputs": [
    {
     "name": "stdin",
     "output_type": "stream",
     "text": [
      "Enter a sentence: how are you doing 1007\n"
     ]
    },
    {
     "name": "stdout",
     "output_type": "stream",
     "text": [
      "howareyoudoing1007\n"
     ]
    }
   ],
   "source": [
    "space_input = input(\"Enter a sentence:\")\n",
    "no_space = space_input.replace(\" \",\"\")   # we are using replace function to remove the space and print it.\n",
    "print(no_space)"
   ]
  },
  {
   "cell_type": "code",
   "execution_count": null,
   "id": "3e04d465-e18c-4c31-923a-a76a54d0f5a1",
   "metadata": {},
   "outputs": [],
   "source": []
  }
 ],
 "metadata": {
  "kernelspec": {
   "display_name": "Python 3 (ipykernel)",
   "language": "python",
   "name": "python3"
  },
  "language_info": {
   "codemirror_mode": {
    "name": "ipython",
    "version": 3
   },
   "file_extension": ".py",
   "mimetype": "text/x-python",
   "name": "python",
   "nbconvert_exporter": "python",
   "pygments_lexer": "ipython3",
   "version": "3.10.9"
  }
 },
 "nbformat": 4,
 "nbformat_minor": 5
}
